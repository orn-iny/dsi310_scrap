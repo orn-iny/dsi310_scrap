{
 "cells": [
  {
   "cell_type": "code",
   "execution_count": 86,
   "id": "40477ecb",
   "metadata": {},
   "outputs": [],
   "source": [
    "from bs4 import BeautifulSoup as soup\n",
    "import requests\n",
    "from datetime import datetime\n",
    "import pandas as pd"
   ]
  },
  {
   "cell_type": "code",
   "execution_count": 87,
   "id": "6012680d",
   "metadata": {},
   "outputs": [],
   "source": [
    "data = requests.get(f'https://thestandard.co/page/2/?s=7-eleven&search')\n",
    "dd = soup(data.content,'html.parser')"
   ]
  },
  {
   "cell_type": "code",
   "execution_count": 88,
   "id": "c31969fd",
   "metadata": {},
   "outputs": [],
   "source": [
    "title_list = []\n",
    "urls = []\n",
    "author_list = []\n",
    "desc_list = []\n",
    "published_date = []\n",
    "retrieved_date  = []"
   ]
  },
  {
   "cell_type": "code",
   "execution_count": 89,
   "id": "be2a02b1",
   "metadata": {},
   "outputs": [],
   "source": [
    "for news in dd.findAll('div', attrs={'class' : 'col-md-8'}):\n",
    "    title_list.append(news.find('h3',{'class':'news-title'}).find('a').text.replace('\\n',''))\n",
    "    urls.append(news.find('a', href=True)['href'])"
   ]
  },
  {
   "cell_type": "code",
   "execution_count": 90,
   "id": "df33cc05",
   "metadata": {},
   "outputs": [],
   "source": [
    "for link in urls:\n",
    "    page = requests.get(link)\n",
    "    b = soup(page.content,'html.parser')\n",
    "    for a in b.findAll('div', attrs={'class' : 'meta-author'}):\n",
    "        author_list.append(a.find('a').text)\n",
    "        \n",
    "    for n in b.findAll('div', attrs={'class' : 'entry-content'}):\n",
    "        des = n.text.replace('\\n','').replace('\\xa0','')\n",
    "        desc_list.append(des)\n",
    "\n",
    "    for date in b.findAll('div', attrs={'class' : 'meta-date'}):\n",
    "        date_p = date.find('span').get_text()\n",
    "        date_p = datetime.strptime(date_p, '%d.%m.%Y').strftime(\"%Y-%m-%d\")\n",
    "        published_date.append(date_p)\n",
    "        \n",
    "    r = (datetime.now()).strftime(\"%Y-%m-%d\")\n",
    "    retrieved_date.append(r)"
   ]
  },
  {
   "cell_type": "code",
   "execution_count": 91,
   "id": "584cef33",
   "metadata": {},
   "outputs": [
    {
     "data": {
      "text/html": [
       "<div>\n",
       "<style scoped>\n",
       "    .dataframe tbody tr th:only-of-type {\n",
       "        vertical-align: middle;\n",
       "    }\n",
       "\n",
       "    .dataframe tbody tr th {\n",
       "        vertical-align: top;\n",
       "    }\n",
       "\n",
       "    .dataframe thead th {\n",
       "        text-align: right;\n",
       "    }\n",
       "</style>\n",
       "<table border=\"1\" class=\"dataframe\">\n",
       "  <thead>\n",
       "    <tr style=\"text-align: right;\">\n",
       "      <th></th>\n",
       "      <th>title</th>\n",
       "      <th>publish_date</th>\n",
       "      <th>retrieve_date</th>\n",
       "      <th>author</th>\n",
       "      <th>description</th>\n",
       "      <th>source_url</th>\n",
       "    </tr>\n",
       "  </thead>\n",
       "  <tbody>\n",
       "    <tr>\n",
       "      <th>0</th>\n",
       "      <td>บริษัทแม่ 7-Eleven ในญี่ปุ่น ถูกนักลงทุนสถาบัน...</td>\n",
       "      <td>2022-01-27</td>\n",
       "      <td>2022-11-15</td>\n",
       "      <td>ถนัดกิจ จันกิเสน</td>\n",
       "      <td>Seven &amp; i Holdings กลุ่มค้าปลีกรายใหญ่ที่สุดขอ...</td>\n",
       "      <td>https://thestandard.co/7-eleven-japan-pressure...</td>\n",
       "    </tr>\n",
       "    <tr>\n",
       "      <th>1</th>\n",
       "      <td>กลุ่มค้าปลีกรุกเจาะออนไลน์โตก้าวกระโดด 7-Eleve...</td>\n",
       "      <td>2021-12-24</td>\n",
       "      <td>2022-11-15</td>\n",
       "      <td>THE STANDARD WEALTH</td>\n",
       "      <td>ปี 2564 ที่ผ่านมา โควิดมีทั้งวิกฤตและโอกาส แต่...</td>\n",
       "      <td>https://thestandard.co/retail-group-penetrates...</td>\n",
       "    </tr>\n",
       "    <tr>\n",
       "      <th>2</th>\n",
       "      <td>ใช้คนเดินส่งธรรมดาไป! 7-Eleven ในสหรัฐฯ จับมือ...</td>\n",
       "      <td>2021-12-02</td>\n",
       "      <td>2022-11-15</td>\n",
       "      <td>ถนัดกิจ จันกิเสน</td>\n",
       "      <td>แม้วันนี้การบริการเดลิเวอรีจาก 7-Eleven ในบ้าน...</td>\n",
       "      <td>https://thestandard.co/7-eleven-nuro-autonomou...</td>\n",
       "    </tr>\n",
       "    <tr>\n",
       "      <th>3</th>\n",
       "      <td>‘ฟูซิลลี่ผัดขี้เมาไก่’ เมนูจัดจ้านจาก ‘เจ๊ไฝ’ ...</td>\n",
       "      <td>2021-10-30</td>\n",
       "      <td>2022-11-15</td>\n",
       "      <td>วรรษชล คัวดรี้</td>\n",
       "      <td>นอกจาก เจ๊ไฝ-สุภิญญา จันสุตะ จากร้านเจ๊ไฝ สตรี...</td>\n",
       "      <td>https://thestandard.co/jay-fai-7-eleven/</td>\n",
       "    </tr>\n",
       "    <tr>\n",
       "      <th>4</th>\n",
       "      <td>‘อินเดีย’ ประเทศที่มีกำลังซื้อ 1,400 ล้านคน กำ...</td>\n",
       "      <td>2021-10-08</td>\n",
       "      <td>2022-11-15</td>\n",
       "      <td>ถนัดกิจ จันกิเสน</td>\n",
       "      <td>วันเสาร์ที่ 9 ตุลาคมนี้ จะเป็นวันแรกที่ 7-Elev...</td>\n",
       "      <td>https://thestandard.co/7-eleven-india-first-br...</td>\n",
       "    </tr>\n",
       "  </tbody>\n",
       "</table>\n",
       "</div>"
      ],
      "text/plain": [
       "                                               title publish_date  \\\n",
       "0  บริษัทแม่ 7-Eleven ในญี่ปุ่น ถูกนักลงทุนสถาบัน...   2022-01-27   \n",
       "1  กลุ่มค้าปลีกรุกเจาะออนไลน์โตก้าวกระโดด 7-Eleve...   2021-12-24   \n",
       "2  ใช้คนเดินส่งธรรมดาไป! 7-Eleven ในสหรัฐฯ จับมือ...   2021-12-02   \n",
       "3  ‘ฟูซิลลี่ผัดขี้เมาไก่’ เมนูจัดจ้านจาก ‘เจ๊ไฝ’ ...   2021-10-30   \n",
       "4  ‘อินเดีย’ ประเทศที่มีกำลังซื้อ 1,400 ล้านคน กำ...   2021-10-08   \n",
       "\n",
       "  retrieve_date               author  \\\n",
       "0    2022-11-15     ถนัดกิจ จันกิเสน   \n",
       "1    2022-11-15  THE STANDARD WEALTH   \n",
       "2    2022-11-15     ถนัดกิจ จันกิเสน   \n",
       "3    2022-11-15       วรรษชล คัวดรี้   \n",
       "4    2022-11-15     ถนัดกิจ จันกิเสน   \n",
       "\n",
       "                                         description  \\\n",
       "0  Seven & i Holdings กลุ่มค้าปลีกรายใหญ่ที่สุดขอ...   \n",
       "1  ปี 2564 ที่ผ่านมา โควิดมีทั้งวิกฤตและโอกาส แต่...   \n",
       "2  แม้วันนี้การบริการเดลิเวอรีจาก 7-Eleven ในบ้าน...   \n",
       "3  นอกจาก เจ๊ไฝ-สุภิญญา จันสุตะ จากร้านเจ๊ไฝ สตรี...   \n",
       "4  วันเสาร์ที่ 9 ตุลาคมนี้ จะเป็นวันแรกที่ 7-Elev...   \n",
       "\n",
       "                                          source_url  \n",
       "0  https://thestandard.co/7-eleven-japan-pressure...  \n",
       "1  https://thestandard.co/retail-group-penetrates...  \n",
       "2  https://thestandard.co/7-eleven-nuro-autonomou...  \n",
       "3           https://thestandard.co/jay-fai-7-eleven/  \n",
       "4  https://thestandard.co/7-eleven-india-first-br...  "
      ]
     },
     "execution_count": 91,
     "metadata": {},
     "output_type": "execute_result"
    }
   ],
   "source": [
    "table = pd.DataFrame([title_list, published_date, retrieved_date, author_list, desc_list, urls]).transpose()\n",
    "table.columns = ['title','publish_date','retrieve_date','author','description','source_url']\n",
    "table.head()"
   ]
  },
  {
   "cell_type": "code",
   "execution_count": 92,
   "id": "5d97d58f",
   "metadata": {},
   "outputs": [],
   "source": [
    "table.to_csv('04scrap_7eleven_TheStandard_news.csv',encoding='utf-8-sig')"
   ]
  },
  {
   "cell_type": "code",
   "execution_count": null,
   "id": "82fcb9ce",
   "metadata": {},
   "outputs": [],
   "source": []
  }
 ],
 "metadata": {
  "kernelspec": {
   "display_name": "Python 3 (ipykernel)",
   "language": "python",
   "name": "python3"
  },
  "language_info": {
   "codemirror_mode": {
    "name": "ipython",
    "version": 3
   },
   "file_extension": ".py",
   "mimetype": "text/x-python",
   "name": "python",
   "nbconvert_exporter": "python",
   "pygments_lexer": "ipython3",
   "version": "3.8.5"
  }
 },
 "nbformat": 4,
 "nbformat_minor": 5
}
