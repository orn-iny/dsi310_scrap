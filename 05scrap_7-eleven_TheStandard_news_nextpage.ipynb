{
 "cells": [
  {
   "cell_type": "code",
   "execution_count": 32,
   "id": "0130d946",
   "metadata": {},
   "outputs": [],
   "source": [
    "from bs4 import BeautifulSoup\n",
    "import requests\n",
    "import pandas as pd"
   ]
  },
  {
   "cell_type": "code",
   "execution_count": 34,
   "id": "5ca8a3b2",
   "metadata": {},
   "outputs": [],
   "source": [
    "url = 'https://thestandard.co/page/'"
   ]
  },
  {
   "cell_type": "code",
   "execution_count": 36,
   "id": "abc11a6a",
   "metadata": {},
   "outputs": [
    {
     "data": {
      "text/plain": [
       "<Response [200]>"
      ]
     },
     "execution_count": 36,
     "metadata": {},
     "output_type": "execute_result"
    }
   ],
   "source": [
    "bs = []\n",
    "page = 1\n",
    "\n",
    "while page <= 10:\n",
    "    data = requests.get(url + str(page) + '/?s=7-eleven&search')\n",
    "    soup = BeautifulSoup(data.content, 'html.parser')\n",
    "    bs.append(soup)\n",
    "    page += 1\n",
    "data"
   ]
  },
  {
   "cell_type": "code",
   "execution_count": 38,
   "id": "e22784cc",
   "metadata": {},
   "outputs": [],
   "source": [
    "title_list = []\n",
    "urls = []\n",
    "author_list = []\n",
    "desc_list = []"
   ]
  },
  {
   "cell_type": "code",
   "execution_count": 40,
   "id": "c3e5bb02",
   "metadata": {},
   "outputs": [],
   "source": [
    "for i in range(len(bs)):\n",
    "    for t in bs[i].find_all('div', {'class' : 'col-md-8'}):\n",
    "        urls.append(t.find('a', href=True)['href'])\n",
    "        title_list.append(t.find('h3',{'class':'news-title'}).find('a').text.replace('\\n',''))"
   ]
  },
  {
   "cell_type": "code",
   "execution_count": 41,
   "id": "06a51571",
   "metadata": {},
   "outputs": [],
   "source": [
    "for link in urls:\n",
    "    page_url = requests.get(link)\n",
    "    b = BeautifulSoup(page_url.content, 'html.parser')\n",
    "    for a in b.findAll('div', {'class' : 'meta-author'}):\n",
    "        author_list.append(a.find('a').text)\n",
    "        \n",
    "    for d in b.findAll('div', {'class' : 'entry-content'}):\n",
    "        des = d.text.replace('\\n','').replace('\\xa0','')\n",
    "        desc_list.append(des)"
   ]
  },
  {
   "cell_type": "code",
   "execution_count": 42,
   "id": "1897faa6",
   "metadata": {},
   "outputs": [
    {
     "data": {
      "text/html": [
       "<div>\n",
       "<style scoped>\n",
       "    .dataframe tbody tr th:only-of-type {\n",
       "        vertical-align: middle;\n",
       "    }\n",
       "\n",
       "    .dataframe tbody tr th {\n",
       "        vertical-align: top;\n",
       "    }\n",
       "\n",
       "    .dataframe thead th {\n",
       "        text-align: right;\n",
       "    }\n",
       "</style>\n",
       "<table border=\"1\" class=\"dataframe\">\n",
       "  <thead>\n",
       "    <tr style=\"text-align: right;\">\n",
       "      <th></th>\n",
       "      <th>title</th>\n",
       "      <th>author</th>\n",
       "      <th>description</th>\n",
       "      <th>source_url</th>\n",
       "    </tr>\n",
       "  </thead>\n",
       "  <tbody>\n",
       "    <tr>\n",
       "      <th>0</th>\n",
       "      <td>เป็นทุกอย่างแล้ว! Flash Express ขยายเข้าไป ‘รั...</td>\n",
       "      <td>ถนัดกิจ จันกิเสน</td>\n",
       "      <td>เรียกว่าเป็นทุกอย่างแล้วจริงๆ สำหรับ 7-Eleven ...</td>\n",
       "      <td>https://thestandard.co/flash-express-7-eleven/</td>\n",
       "    </tr>\n",
       "    <tr>\n",
       "      <th>1</th>\n",
       "      <td>CP ALL คว้า ลิซ่า BLACKPINK ไปเป็น ‘พรีเซนเตอร...</td>\n",
       "      <td>ถนัดกิจ จันกิเสน</td>\n",
       "      <td>กลายเป็นคำตอบที่ใครๆ ก็อยากรู้ว่า หลังจาก ลิซ่...</td>\n",
       "      <td>https://thestandard.co/cp-all-lisa-blackpink-a...</td>\n",
       "    </tr>\n",
       "    <tr>\n",
       "      <th>2</th>\n",
       "      <td>เครือ CP ออกโรงช่วยเกษตรกรเปิด ‘ร้านขายทุเรียน...</td>\n",
       "      <td>ถนัดกิจ จันกิเสน</td>\n",
       "      <td>‘ทุเรียนไทย’ คือหนึ่งในผลไม้ส่งออกสำคัญ โดยเฉพ...</td>\n",
       "      <td>https://thestandard.co/cp-group-help-farmers-s...</td>\n",
       "    </tr>\n",
       "    <tr>\n",
       "      <th>3</th>\n",
       "      <td>7-Eleven ญี่ปุ่นขาย ‘คราฟต์เบียร์’ 300 ยี่ห้อ ...</td>\n",
       "      <td>THE STANDARD WEALTH</td>\n",
       "      <td>เป็นเรื่องที่สามารถเล่าได้ยาวสำหรับกรณีของร้าน...</td>\n",
       "      <td>https://thestandard.co/japan-7-eleven-selling-...</td>\n",
       "    </tr>\n",
       "    <tr>\n",
       "      <th>4</th>\n",
       "      <td>เมื่อ 7-Eleven กำลังผันตัวไปเป็น ‘ร้านอาหาร’ ย...</td>\n",
       "      <td>ถนัดกิจ จันกิเสน</td>\n",
       "      <td>เมื่อพูดถึง 7-Eleven ย่อมนึกถึงความเป็นร้านสะด...</td>\n",
       "      <td>https://thestandard.co/7-eleven-is-transformin...</td>\n",
       "    </tr>\n",
       "    <tr>\n",
       "      <th>5</th>\n",
       "      <td>เข้ากับบรรยาศ! 7-Eleven ในฟิลิปปินส์จัดแคมเปญ ...</td>\n",
       "      <td>ถนัดกิจ จันกิเสน</td>\n",
       "      <td>เพื่อให้เข้ากับบรรยากาศการเลือกตั้งประธานาธิบด...</td>\n",
       "      <td>https://thestandard.co/philippines-7-eleven-si...</td>\n",
       "    </tr>\n",
       "    <tr>\n",
       "      <th>6</th>\n",
       "      <td>ธุรกิจอีคอมเมิร์ซในเครือ CP จาก 7-Eleven, Makr...</td>\n",
       "      <td>ถนัดกิจ จันกิเสน</td>\n",
       "      <td>การมีประสบการณ์ 3 ปีใน Lazada และ 2 ปีในการคุม...</td>\n",
       "      <td>https://thestandard.co/how-will-cps-e-commerce...</td>\n",
       "    </tr>\n",
       "    <tr>\n",
       "      <th>7</th>\n",
       "      <td>บริษัทแม่ 7-Eleven ญี่ปุ่น เตรียมขายธุรกิจห้าง...</td>\n",
       "      <td>ถนัดกิจ จันกิเสน</td>\n",
       "      <td>Seven &amp; i Holdings กลุ่มค้าปลีกรายใหญ่ที่สุดขอ...</td>\n",
       "      <td>https://thestandard.co/7-eleven-japan-preparin...</td>\n",
       "    </tr>\n",
       "    <tr>\n",
       "      <th>8</th>\n",
       "      <td>ลดการสัมผัสแบบขั้นกว่า! ร้าน 7-Eleven ในญี่ปุ่...</td>\n",
       "      <td>วรนิต หิรัญพงษ์</td>\n",
       "      <td>เครื่องคิดเงินที่ลดสัมผัสได้แบบยิ่งกว่าเดิมเคร...</td>\n",
       "      <td>https://thestandard.co/7-eleven-hologram-pos/</td>\n",
       "    </tr>\n",
       "    <tr>\n",
       "      <th>9</th>\n",
       "      <td>7-Eleven ในญี่ปุ่น ประเดิมทดลองชำระเงินด้วยตนเ...</td>\n",
       "      <td>ถนัดกิจ จันกิเสน</td>\n",
       "      <td>ปกติแล้วร้านสะดวกซื้อในญี่ปุ่นขึ้นชื่อในเรื่อง...</td>\n",
       "      <td>https://thestandard.co/7-eleven-japan-try-touc...</td>\n",
       "    </tr>\n",
       "  </tbody>\n",
       "</table>\n",
       "</div>"
      ],
      "text/plain": [
       "                                               title               author  \\\n",
       "0  เป็นทุกอย่างแล้ว! Flash Express ขยายเข้าไป ‘รั...     ถนัดกิจ จันกิเสน   \n",
       "1  CP ALL คว้า ลิซ่า BLACKPINK ไปเป็น ‘พรีเซนเตอร...     ถนัดกิจ จันกิเสน   \n",
       "2  เครือ CP ออกโรงช่วยเกษตรกรเปิด ‘ร้านขายทุเรียน...     ถนัดกิจ จันกิเสน   \n",
       "3  7-Eleven ญี่ปุ่นขาย ‘คราฟต์เบียร์’ 300 ยี่ห้อ ...  THE STANDARD WEALTH   \n",
       "4  เมื่อ 7-Eleven กำลังผันตัวไปเป็น ‘ร้านอาหาร’ ย...     ถนัดกิจ จันกิเสน   \n",
       "5  เข้ากับบรรยาศ! 7-Eleven ในฟิลิปปินส์จัดแคมเปญ ...     ถนัดกิจ จันกิเสน   \n",
       "6  ธุรกิจอีคอมเมิร์ซในเครือ CP จาก 7-Eleven, Makr...     ถนัดกิจ จันกิเสน   \n",
       "7  บริษัทแม่ 7-Eleven ญี่ปุ่น เตรียมขายธุรกิจห้าง...     ถนัดกิจ จันกิเสน   \n",
       "8  ลดการสัมผัสแบบขั้นกว่า! ร้าน 7-Eleven ในญี่ปุ่...      วรนิต หิรัญพงษ์   \n",
       "9  7-Eleven ในญี่ปุ่น ประเดิมทดลองชำระเงินด้วยตนเ...     ถนัดกิจ จันกิเสน   \n",
       "\n",
       "                                         description  \\\n",
       "0  เรียกว่าเป็นทุกอย่างแล้วจริงๆ สำหรับ 7-Eleven ...   \n",
       "1  กลายเป็นคำตอบที่ใครๆ ก็อยากรู้ว่า หลังจาก ลิซ่...   \n",
       "2  ‘ทุเรียนไทย’ คือหนึ่งในผลไม้ส่งออกสำคัญ โดยเฉพ...   \n",
       "3  เป็นเรื่องที่สามารถเล่าได้ยาวสำหรับกรณีของร้าน...   \n",
       "4  เมื่อพูดถึง 7-Eleven ย่อมนึกถึงความเป็นร้านสะด...   \n",
       "5  เพื่อให้เข้ากับบรรยากาศการเลือกตั้งประธานาธิบด...   \n",
       "6  การมีประสบการณ์ 3 ปีใน Lazada และ 2 ปีในการคุม...   \n",
       "7  Seven & i Holdings กลุ่มค้าปลีกรายใหญ่ที่สุดขอ...   \n",
       "8  เครื่องคิดเงินที่ลดสัมผัสได้แบบยิ่งกว่าเดิมเคร...   \n",
       "9  ปกติแล้วร้านสะดวกซื้อในญี่ปุ่นขึ้นชื่อในเรื่อง...   \n",
       "\n",
       "                                          source_url  \n",
       "0     https://thestandard.co/flash-express-7-eleven/  \n",
       "1  https://thestandard.co/cp-all-lisa-blackpink-a...  \n",
       "2  https://thestandard.co/cp-group-help-farmers-s...  \n",
       "3  https://thestandard.co/japan-7-eleven-selling-...  \n",
       "4  https://thestandard.co/7-eleven-is-transformin...  \n",
       "5  https://thestandard.co/philippines-7-eleven-si...  \n",
       "6  https://thestandard.co/how-will-cps-e-commerce...  \n",
       "7  https://thestandard.co/7-eleven-japan-preparin...  \n",
       "8      https://thestandard.co/7-eleven-hologram-pos/  \n",
       "9  https://thestandard.co/7-eleven-japan-try-touc...  "
      ]
     },
     "execution_count": 42,
     "metadata": {},
     "output_type": "execute_result"
    }
   ],
   "source": [
    "table = pd.DataFrame([title_list, author_list, desc_list, urls]).transpose()\n",
    "table.columns = ['title','author','description','source_url']\n",
    "table.head(10)"
   ]
  },
  {
   "cell_type": "code",
   "execution_count": 43,
   "id": "028fff50",
   "metadata": {},
   "outputs": [],
   "source": [
    "table.to_csv('04scrap_7eleven_TheStandard_news.csv',encoding='utf-8-sig')"
   ]
  },
  {
   "cell_type": "code",
   "execution_count": null,
   "id": "44e411ec",
   "metadata": {},
   "outputs": [],
   "source": []
  }
 ],
 "metadata": {
  "kernelspec": {
   "display_name": "Python 3 (ipykernel)",
   "language": "python",
   "name": "python3"
  },
  "language_info": {
   "codemirror_mode": {
    "name": "ipython",
    "version": 3
   },
   "file_extension": ".py",
   "mimetype": "text/x-python",
   "name": "python",
   "nbconvert_exporter": "python",
   "pygments_lexer": "ipython3",
   "version": "3.8.5"
  }
 },
 "nbformat": 4,
 "nbformat_minor": 5
}
