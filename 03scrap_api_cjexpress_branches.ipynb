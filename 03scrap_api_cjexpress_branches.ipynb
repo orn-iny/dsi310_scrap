{
 "cells": [
  {
   "cell_type": "code",
   "execution_count": null,
   "id": "a24f0862",
   "metadata": {},
   "outputs": [],
   "source": [
    "import requests\n",
    "import json\n",
    "import pandas as pd"
   ]
  },
  {
   "cell_type": "code",
   "execution_count": null,
   "id": "327e189c",
   "metadata": {},
   "outputs": [],
   "source": [
    "url = \"https://www.cjexpress.co.th/branch/all\"\n",
    "res = requests.get(url)\n",
    "res.json()"
   ]
  },
  {
   "cell_type": "code",
   "execution_count": null,
   "id": "92ed3c82",
   "metadata": {},
   "outputs": [],
   "source": [
    "with open('data.json', 'w', encoding='utf8') as json_file:\n",
    "    json.dump(res.json(), json_file, ensure_ascii=False, indent=4)"
   ]
  },
  {
   "cell_type": "code",
   "execution_count": null,
   "id": "e0867213",
   "metadata": {},
   "outputs": [],
   "source": [
    "df = pd.json_normalize(res.json()) "
   ]
  },
  {
   "cell_type": "code",
   "execution_count": null,
   "id": "2f978e1c",
   "metadata": {},
   "outputs": [],
   "source": [
    "df = df.drop(['lat','lng','card','emoney'],axis=1)"
   ]
  },
  {
   "cell_type": "code",
   "execution_count": null,
   "id": "7170219d",
   "metadata": {},
   "outputs": [],
   "source": [
    "df"
   ]
  },
  {
   "cell_type": "code",
   "execution_count": null,
   "id": "bc1f66b1",
   "metadata": {},
   "outputs": [],
   "source": [
    "df.to_csv('cjexpress.csv',index=None,encoding='utf-8-sig')"
   ]
  },
  {
   "cell_type": "code",
   "execution_count": null,
   "id": "0bcde88d",
   "metadata": {},
   "outputs": [],
   "source": []
  }
 ],
 "metadata": {
  "kernelspec": {
   "display_name": "Python 3 (ipykernel)",
   "language": "python",
   "name": "python3"
  },
  "language_info": {
   "codemirror_mode": {
    "name": "ipython",
    "version": 3
   },
   "file_extension": ".py",
   "mimetype": "text/x-python",
   "name": "python",
   "nbconvert_exporter": "python",
   "pygments_lexer": "ipython3",
   "version": "3.8.5"
  }
 },
 "nbformat": 4,
 "nbformat_minor": 5
}
